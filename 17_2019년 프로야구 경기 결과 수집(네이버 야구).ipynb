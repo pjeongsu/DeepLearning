{
 "cells": [
  {
   "cell_type": "markdown",
   "metadata": {},
   "source": [
    "- 웹 통신 세 가지 방식\n",
    "    \n",
    "    1. 표준 통신 - 링크클릭, 주소 입력 -> 웹 브라우저 화면 전체를 갱신 => 소스 보기를 하면 나옴\n",
    "    2. 비동기 통신 - 병렬 처리 -> 일부를 갱신 - Ajax통신 => 소스 보기로 안 나옴 / Ajax통신에 사용하는 주소를 파악해서 직접 요청\n",
    "    3. 웹 소켓"
   ]
  },
  {
   "cell_type": "markdown",
   "metadata": {},
   "source": [
    "- 페이지 소스 보기를 했을 때 안나옴 -> 프레임 소스 보기가 없음 -> 아작스인가..?\n",
    "- F12에서 network를 누르면 Type에 xhr => 비동기 통신이라는 것을 알 수 있음 => Name 링크를 더블클릭하면 Ajax통신에 사용하는 주소를 파악 "
   ]
  },
  {
   "cell_type": "code",
   "execution_count": 1,
   "metadata": {},
   "outputs": [],
   "source": [
    "import bs4\n",
    "import requests\n",
    "import pandas as pd\n",
    "import numpy as np\n",
    "import time\n",
    "import os\n",
    "from urllib.request import urlopen\n",
    "from IPython.display import clear_output"
   ]
  },
  {
   "cell_type": "markdown",
   "metadata": {},
   "source": [
    "- 소스 보기 시 데이터가 없었다.\n",
    "- iframe도 없다.\n",
    "- 비동기 통신인지 확인해야 한다.\n",
    "- 크롬에서 F12를 눌러 개발자 도구를 띄우고 네트워크 탭을 띄워준다.\n",
    "- 뭔가 변화를 주고(다른 것을 클릭해봄) 네트워크를 확인했을 때 type이 xhr이라고 나온다면 비동기 통신이다.\n",
    "- 네트워크의 탭에 나와있는 주소를 더블클릭해서 브라우저에서 주소를 확인한다."
   ]
  },
  {
   "cell_type": "code",
   "execution_count": 2,
   "metadata": {},
   "outputs": [],
   "source": [
    "# 요청 함수\n",
    "def getSource(site) :\n",
    "    # 헤더 정보\n",
    "    header_info = {\n",
    "        'User-Agent' : 'Mozilla/5.0 (Windows NT 10.0; Win64; x64) AppleWebKit/537.36 (KHTML, like Gecko) Chrome/88.0.4324.146 Safari/537.36'\n",
    "    }\n",
    "    \n",
    "    # 요청한다\n",
    "    response = requests.get(site, headers = header_info)\n",
    "    # print(response.text)\n",
    "    \n",
    "    # bs4 객체 생성\n",
    "    soup = bs4.BeautifulSoup(response.text, 'lxml')\n",
    "    return soup"
   ]
  },
  {
   "cell_type": "code",
   "execution_count": 3,
   "metadata": {},
   "outputs": [],
   "source": [
    "# 하루의 경기결과를 가져오는 함수\n",
    "def getData(soup):\n",
    "    \n",
    "    # 데이터를 담은 딕셔너리\n",
    "    data_dict = {\n",
    "        '팀1이름' : [],\n",
    "        '팀2이름' : [],\n",
    "        '팀1투수' : [],\n",
    "        '팀2투수' : [],\n",
    "        '팀1점수' : [],\n",
    "        '팀2점수' : []\n",
    "    }\n",
    "    \n",
    "    # 경기 결과 전체를 가져온다\n",
    "    a1 = soup.select_one('#todaySchedule')\n",
    "    # print(a1)\n",
    "    \n",
    "    # li 태그들을 가져온다\n",
    "    a2 = a1.select('li.end')\n",
    "    # print(a2)\n",
    "\n",
    "    # li 태그의 수만큼 반복한다\n",
    "    for a3 in a2:\n",
    "        # 좌측 팀 이름을 가져온다\n",
    "        a4 = a3.select_one('div.vs_lft > p > strong')\n",
    "        data1 = a4.text.strip()\n",
    "        # print(data1)\n",
    "        \n",
    "        # 우측 팀 이름을 가져온다\n",
    "        a5 = a3.select_one('div.vs_rgt > p > strong')\n",
    "        data2 = a5.text.strip()\n",
    "        # print(data2)\n",
    "        \n",
    "        # 좌측 팀 투수이름을 가져온다\n",
    "        a6 = a3.select_one('div.vs_lft > p > span > a')\n",
    "        \n",
    "        if a6 != None:\n",
    "            data3 = a6.text.strip()\n",
    "        else:\n",
    "            data3 = np.nan\n",
    "        # print(data3)        \n",
    "\n",
    "        # 우측 팀 투수이름을 가져온다\n",
    "        a7 = a3.select_one('div.vs_rgt > p > span > a')\n",
    "        \n",
    "        if a7 != None:\n",
    "            data4 = a7.text.strip()\n",
    "        else:\n",
    "            data4 = np.nan\n",
    "        # print(data4)             \n",
    "        \n",
    "        # 좌측 팀 점수를 가져온다\n",
    "        a8 = a3.select_one('div.vs_lft > strong')\n",
    "        data5 = a8.text.strip()\n",
    "        # print(data5)        \n",
    "        \n",
    "        # 우측 팀 점수를 가져온다\n",
    "        a9 = a3.select_one('div.vs_rgt > strong')\n",
    "        data6 = a9.text.strip()\n",
    "        # print(data6)            \n",
    "        \n",
    "        # print(data1)   \n",
    "        # print(data2)  \n",
    "        # print(data3)  \n",
    "        # print(data4)  \n",
    "        # print(data5)  \n",
    "        # print(data6)  \n",
    "        \n",
    "        # 딕셔너리에 데이터를 담는다\n",
    "        data_dict['팀1이름'].append(data1)\n",
    "        data_dict['팀2이름'].append(data2)\n",
    "        data_dict['팀1투수'].append(data3)\n",
    "        data_dict['팀2투수'].append(data4)\n",
    "        data_dict['팀1점수'].append(data5)\n",
    "        data_dict['팀2점수'].append(data6)\n",
    "\n",
    "    # 데이터 프레임 생성\n",
    "    df1 = pd.DataFrame(data_dict)\n",
    "    # display(df1)\n",
    "    \n",
    "    if os.path.exists('data4.csv') == False:\n",
    "        # 파일이 없을 경우\n",
    "        df1.to_csv('data4.csv', encoding='utf-8-sig', index=False) # encoding='utf-8-sig' : 엑셀로 열 때 한글이 안깨지도록\n",
    "    else:\n",
    "        df1.to_csv('data4.csv', encoding='utf-8-sig', index=False, header=False, mode='a') # mode='a' 기존의 것에 붙여줌        "
   ]
  },
  {
   "cell_type": "code",
   "execution_count": 4,
   "metadata": {},
   "outputs": [],
   "source": [
    "# 다음 날짜 값을 가지고 온다\n",
    "def getNext(soup):\n",
    "    a1 = soup.select_one('body > div > ul > li:nth-child(6) > a')\n",
    "    # print(a1)\n",
    "    \n",
    "    # onclick 속성 값을 가져온다\n",
    "    a2 = a1.attrs['onclick']\n",
    "    # print(a2)\n",
    "    \n",
    "    # 날짜 값을 가져온다\n",
    "    a3 = a2.split(\"'\")\n",
    "    # print(a3)\n",
    "    \n",
    "    return a3[1]"
   ]
  },
  {
   "cell_type": "code",
   "execution_count": 5,
   "metadata": {},
   "outputs": [
    {
     "name": "stdout",
     "output_type": "stream",
     "text": [
      "20191026\n"
     ]
    },
    {
     "data": {
      "text/html": [
       "<div>\n",
       "<style scoped>\n",
       "    .dataframe tbody tr th:only-of-type {\n",
       "        vertical-align: middle;\n",
       "    }\n",
       "\n",
       "    .dataframe tbody tr th {\n",
       "        vertical-align: top;\n",
       "    }\n",
       "\n",
       "    .dataframe thead th {\n",
       "        text-align: right;\n",
       "    }\n",
       "</style>\n",
       "<table border=\"1\" class=\"dataframe\">\n",
       "  <thead>\n",
       "    <tr style=\"text-align: right;\">\n",
       "      <th></th>\n",
       "      <th>팀1이름</th>\n",
       "      <th>팀2이름</th>\n",
       "      <th>팀1투수</th>\n",
       "      <th>팀2투수</th>\n",
       "      <th>팀1점수</th>\n",
       "      <th>팀2점수</th>\n",
       "    </tr>\n",
       "  </thead>\n",
       "  <tbody>\n",
       "    <tr>\n",
       "      <th>0</th>\n",
       "      <td>두산</td>\n",
       "      <td>키움</td>\n",
       "      <td>이용찬</td>\n",
       "      <td>브리검</td>\n",
       "      <td>11</td>\n",
       "      <td>9</td>\n",
       "    </tr>\n",
       "  </tbody>\n",
       "</table>\n",
       "</div>"
      ],
      "text/plain": [
       "  팀1이름 팀2이름 팀1투수 팀2투수 팀1점수 팀2점수\n",
       "0   두산   키움  이용찬  브리검   11    9"
      ]
     },
     "metadata": {},
     "output_type": "display_data"
    },
    {
     "name": "stdout",
     "output_type": "stream",
     "text": [
      "수집완료\n"
     ]
    }
   ],
   "source": [
    "now = '20190312'\n",
    "\n",
    "while True:\n",
    "    time.sleep(1)\n",
    "    clear_output(wait=True)\n",
    "    \n",
    "    site = f'https://sports.news.naver.com/schedule/scoreBoard.nhn?date={now}&category=kbo'\n",
    "    \n",
    "    print(now)\n",
    "\n",
    "    soup = getSource(site)\n",
    "    getData(soup)\n",
    "    now = getNext(soup)\n",
    "    \n",
    "    if now[:4] == '2020':\n",
    "        print('수집완료')\n",
    "        break"
   ]
  }
 ],
 "metadata": {
  "kernelspec": {
   "display_name": "Python 3",
   "language": "python",
   "name": "python3"
  },
  "language_info": {
   "codemirror_mode": {
    "name": "ipython",
    "version": 3
   },
   "file_extension": ".py",
   "mimetype": "text/x-python",
   "name": "python",
   "nbconvert_exporter": "python",
   "pygments_lexer": "ipython3",
   "version": "3.7.6"
  }
 },
 "nbformat": 4,
 "nbformat_minor": 4
}
