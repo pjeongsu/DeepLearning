{
 "cells": [
  {
   "cell_type": "code",
   "execution_count": 1,
   "metadata": {},
   "outputs": [],
   "source": [
    "import bs4\n",
    "import json\n",
    "import requests\n",
    "import pandas as pd\n",
    "import numpy as np\n",
    "import time\n",
    "import os\n",
    "from urllib.request import urlopen\n",
    "from IPython.display import clear_output"
   ]
  },
  {
   "cell_type": "code",
   "execution_count": 2,
   "metadata": {},
   "outputs": [],
   "source": [
    "#     # bs4 객체 생성\n",
    "#     soup = bs4.BeautifulSoup(response.text, 'lxml')\n",
    "#     return soup\n",
    "\n",
    "# 위에꺼는 xml이나 html만 가능\n",
    "# json은 다른 걸로 바꿔줘야 함"
   ]
  },
  {
   "cell_type": "code",
   "execution_count": 3,
   "metadata": {},
   "outputs": [],
   "source": [
    "# 요청 함수\n",
    "def getSource(site) :\n",
    "    # 헤더 정보\n",
    "    header_info = {\n",
    "        'User-Agent' : 'Mozilla/5.0 (Windows NT 10.0; Win64; x64) AppleWebKit/537.36 (KHTML, like Gecko) Chrome/88.0.4324.146 Safari/537.36'\n",
    "    }\n",
    "    \n",
    "    # 요청한다\n",
    "    response = requests.get(site, headers = header_info)\n",
    "    # print(response.text)\n",
    "    \n",
    "    # json 객체 생성\n",
    "    obj = json.loads(response.text)\n",
    "    return obj"
   ]
  },
  {
   "cell_type": "code",
   "execution_count": 4,
   "metadata": {},
   "outputs": [],
   "source": [
    "# 한 회차의 데이터를 추출한다\n",
    "def getData(obj):\n",
    "\n",
    "    # print(obj['drwNoDate'])\n",
    "    # print(obj['drwtNo1'])\n",
    "    # print(obj['drwtNo2'])\n",
    "    # print(obj['drwtNo3'])\n",
    "    # print(obj['drwtNo4'])\n",
    "    # print(obj['drwtNo5'])\n",
    "    # print(obj['drwtNo6'])\n",
    "    # print(obj['bnusNo'])\n",
    "\n",
    "    # 데이터를 담을 딕셔너리\n",
    "    data_dict = {\n",
    "        '추첨날짜' : [obj['drwNoDate']],\n",
    "        '번호1' : [obj['drwtNo1']],\n",
    "        '번호2' : [obj['drwtNo2']],\n",
    "        '번호3' : [obj['drwtNo3']],\n",
    "        '번호4' : [obj['drwtNo4']],\n",
    "        '번호5' : [obj['drwtNo5']],\n",
    "        '번호6' : [obj['drwtNo6']],\n",
    "        '보너스번호' : [obj['bnusNo']]\n",
    "    }\n",
    "\n",
    "    # 데이터 프레임 생성\n",
    "    df1 = pd.DataFrame(data_dict)\n",
    "    # display(df1)\n",
    "    \n",
    "    if os.path.exists('data5.csv') == False:\n",
    "        # 파일이 없을 경우\n",
    "        df1.to_csv('data5.csv', encoding='utf-8-sig', index=False) # encoding='utf-8-sig' : 엑셀로 열 때 한글이 안깨지도록\n",
    "    else:\n",
    "        df1.to_csv('data5.csv', encoding='utf-8-sig', index=False, header=False, mode='a') # mode='a' 기존의 것에 붙여줌     "
   ]
  },
  {
   "cell_type": "code",
   "execution_count": 5,
   "metadata": {},
   "outputs": [],
   "source": [
    "# 현재 회차를 수집할 것인지 판단\n",
    "def getNow(obj):\n",
    "    if obj['returnValue'] == 'success':\n",
    "        return True\n",
    "    else:\n",
    "        return False"
   ]
  },
  {
   "cell_type": "code",
   "execution_count": 6,
   "metadata": {},
   "outputs": [
    {
     "name": "stdout",
     "output_type": "stream",
     "text": [
      "수집완료\n"
     ]
    }
   ],
   "source": [
    "drwNo = 1\n",
    "drwNo = 940\n",
    "\n",
    "while True:\n",
    "    time.sleep(1)\n",
    "    clear_output(wait=True)\n",
    "    site = f'https://www.dhlottery.co.kr/common.do?method=getLottoNumber&drwNo={drwNo}'\n",
    "\n",
    "    obj = getSource(site)\n",
    "    \n",
    "    # 현재 회차를 수집할 것인지\n",
    "    chk = getNow(obj)\n",
    "    if chk == True:\n",
    "        print(f'{drwNo}회차 수집')\n",
    "        getData(obj)\n",
    "        drwNo += 1\n",
    "    else:\n",
    "        print('수집완료')\n",
    "        break"
   ]
  }
 ],
 "metadata": {
  "kernelspec": {
   "display_name": "Python 3",
   "language": "python",
   "name": "python3"
  },
  "language_info": {
   "codemirror_mode": {
    "name": "ipython",
    "version": 3
   },
   "file_extension": ".py",
   "mimetype": "text/x-python",
   "name": "python",
   "nbconvert_exporter": "python",
   "pygments_lexer": "ipython3",
   "version": "3.7.6"
  }
 },
 "nbformat": 4,
 "nbformat_minor": 4
}
